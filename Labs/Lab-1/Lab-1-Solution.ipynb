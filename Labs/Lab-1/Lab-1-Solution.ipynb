{
 "cells": [
  {
   "cell_type": "markdown",
   "metadata": {},
   "source": [
    "## Lab 1- Python\n",
    "\n",
    "Let start with generating some fake random data. You can get a random number between 0 and 1 using the python random module as follow:"
   ]
  },
  {
   "cell_type": "code",
   "execution_count": 2,
   "metadata": {},
   "outputs": [
    {
     "name": "stdout",
     "output_type": "stream",
     "text": [
      "The Value of x is 0.419697017099\n"
     ]
    }
   ],
   "source": [
    "import matplotlib.pyplot as plt\n",
    "import random\n",
    "x=random.random()\n",
    "print \"The Value of x is\", x"
   ]
  },
  {
   "cell_type": "markdown",
   "metadata": {},
   "source": [
    "### Exercise 1.1\n",
    "Using random, write a function GenerateData(N, mymin, mymax), that returns a python list containing N random numbers between specified minimum and maximum value. Note that you may want to quickly work out on paper how to turn numbers between 0 and 1 to between other values. "
   ]
  },
  {
   "cell_type": "code",
   "execution_count": 3,
   "metadata": {},
   "outputs": [
    {
     "name": "stdout",
     "output_type": "stream",
     "text": [
      "Data Type: <type 'list'>\n",
      "Data Length: 1000\n",
      "Type of Data Contents: <type 'float'>\n",
      "Data Minimum: -9.98553648581\n",
      "Data Maximum: 9.97254405869\n"
     ]
    }
   ],
   "source": [
    "import random\n",
    "\n",
    "def GenerateData(N,min,max):\n",
    "    \n",
    "    out = []\n",
    "    x = random.random()\n",
    "    for i in range(N):\n",
    "        out.append(x)\n",
    "        x = random.uniform(min,max) \n",
    "        \n",
    "        \n",
    "    return out\n",
    "\n",
    "Data=GenerateData(1000,-10,10)\n",
    "print \"Data Type:\", type(Data)\n",
    "print \"Data Length:\", len(Data)\n",
    "if len(Data)>0: \n",
    "    print \"Type of Data Contents:\", type(Data[0])\n",
    "    print \"Data Minimum:\", min(Data)\n",
    "    print \"Data Maximum:\", max(Data)\n",
    "    \n"
   ]
  },
  {
   "cell_type": "markdown",
   "metadata": {},
   "source": [
    "### Exercise 1.2\n",
    "\n",
    "Write a function that computes the mean of values in a list."
   ]
  },
  {
   "cell_type": "code",
   "execution_count": 4,
   "metadata": {},
   "outputs": [
    {
     "name": "stdout",
     "output_type": "stream",
     "text": [
      "Mean of Data: -0.235968722649\n"
     ]
    }
   ],
   "source": [
    "val = [2,4]\n",
    "def mean(Data):\n",
    "    m=0\n",
    "    \n",
    "    return float(sum(Data)) / max(len(Data), 1)\n",
    "    \n",
    "    \n",
    "    return m\n",
    "\n",
    "print \"Mean of Data:\", mean(Data)"
   ]
  },
  {
   "cell_type": "markdown",
   "metadata": {},
   "source": [
    "### Exercise 1.3\n",
    "\n",
    "Write a function the applies a booling function (that returns true/false) to every element in data, and return a list of indices of elements where the result was true. Use this function to find the indices of positive entries. "
   ]
  },
  {
   "cell_type": "code",
   "execution_count": 5,
   "metadata": {},
   "outputs": [
    {
     "name": "stdout",
     "output_type": "stream",
     "text": [
      "[999, 985, 991, 918, 980, 992, 998, 982, 990, 967, 960, 997, 986, 952, 984, 983, 976, 962, 957, 977, 941, 972, 916, 956, 966, 947, 940, 944, 948, 955, 943, 938, 951, 887, 924, 890, 936, 934, 914, 920, 880, 919, 928, 869, 907, 915, 908, 900, 860, 852, 864, 903, 904, 817, 894, 899, 891, 877, 886, 868, 884, 867, 882, 853, 879, 872, 858, 870, 847, 811, 834, 855, 841, 826, 845, 825, 843, 851, 839, 790, 805, 832, 836, 816, 815, 827, 806, 803, 745, 799, 796, 810, 767, 786, 802, 801, 800, 794, 792, 780, 787, 747, 793, 762, 737, 783, 739, 756, 782, 772, 723, 775, 761, 751, 702, 740, 729, 755, 750, 743, 749, 734, 730, 726, 721, 727, 735, 718, 714, 733, 706, 698, 686, 715, 724, 711, 722, 699, 707, 708, 712, 705, 678, 703, 652, 674, 609, 684, 697, 671, 646, 694, 614, 661, 631, 643, 677, 640, 662, 606, 656, 658, 647, 653, 591, 632, 642, 619, 608, 630, 636, 604, 601, 602, 600, 613, 598, 595, 580, 572, 594, 603, 575, 597, 571, 579, 588, 582, 589, 581, 586, 576, 567, 573, 566, 554, 565, 514, 569, 557, 562, 568, 528, 530, 549, 522, 563, 541, 526, 555, 547, 511, 544, 545, 536, 532, 535, 519, 524, 517, 520, 523, 527, 497, 516, 485, 487, 518, 468, 506, 480, 509, 499, 502, 467, 457, 500, 483, 493, 491, 475, 399, 479, 482, 465, 463, 481, 472, 470, 464, 444, 452, 401, 460, 456, 461, 378, 436, 429, 458, 450, 437, 423, 421, 435, 428, 434, 398, 427, 413, 411, 409, 418, 416, 403, 417, 414, 355, 408, 387, 374, 407, 406, 390, 391, 402, 349, 389, 395, 363, 360, 372, 375, 377, 368, 365, 357, 348, 350, 371, 369, 354, 329, 359, 362, 332, 346, 356, 325, 342, 304, 352, 333, 340, 343, 335, 315, 338, 326, 279, 308, 220, 331, 318, 306, 328, 317, 300, 321, 314, 289, 302, 313, 311, 301, 281, 299, 268, 293, 255, 296, 292, 288, 275, 282, 284, 265, 272, 240, 260, 218, 274, 232, 269, 266, 267, 264, 261, 262, 251, 248, 250, 254, 221, 231, 244, 241, 239, 242, 236, 227, 217, 196, 229, 207, 230, 225, 188, 211, 205, 171, 214, 215, 191, 213, 199, 157, 204, 181, 201, 185, 178, 198, 197, 192, 186, 139, 189, 190, 173, 136, 175, 184, 163, 155, 180, 176, 158, 153, 174, 154, 160, 141, 147, 159, 129, 137, 149, 133, 146, 111, 128, 131, 104, 130, 127, 107, 103, 98, 124, 110, 117, 120, 118, 77, 115, 67, 106, 114, 89, 85, 105, 100, 99, 97, 91, 88, 82, 65, 84, 80, 27, 0, 79, 47, 70, 62, 51, 74, 72, 73, 13, 32, 60, 49, 43, 1, 57, 44, 29, 34, 36, 38, 3, 7, 20, 17, 22, 19, 8, 10, 18, 14, 12]\n"
     ]
    }
   ],
   "source": [
    "\n",
    "\n",
    "def where(mylist,myfunc):\n",
    "    out = []\n",
    "    for i in mylist:\n",
    "        if myfunc(i):\n",
    "            out.insert(int(i), mylist.index(i))\n",
    "    return out\n",
    "\n",
    "def positive(x):\n",
    "    return x>0\n",
    "    \n",
    "print where(Data,positive)\n",
    "\n"
   ]
  },
  {
   "cell_type": "markdown",
   "metadata": {},
   "source": [
    "### Exercise 1.4\n",
    "\n",
    "The inrange(mymin,mymax) function below returns a function that tests if it's input is between the specified values. Use this function, in conjunction to your solution to 1.3, to demonstrate that your data is \"flat\". Hint: pick several sub-ranges and show that the number of data point divided by the size of the range is roughly constant. "
   ]
  },
  {
   "cell_type": "code",
   "execution_count": 6,
   "metadata": {},
   "outputs": [
    {
     "name": "stdout",
     "output_type": "stream",
     "text": [
      "True True False False False\n",
      "False False False False False\n",
      "Number of Entries passing F1: 166\n",
      "Number of Entries passing F2: 264\n",
      "Number of Entries passing F3: 464\n"
     ]
    },
    {
     "data": {
      "image/png": "[encoded data removed]",
      "text/plain": [
       "<matplotlib.figure.Figure at 0x7f87db926790>"
      ]
     },
     "metadata": {},
     "output_type": "display_data"
    }
   ],
   "source": [
    "def inrange(mymin,mymax):\n",
    "    def testrange(x):\n",
    "        return x<mymax and x>=mymin\n",
    "    return testrange\n",
    "\n",
    "# Examples:\n",
    "F1=inrange(0,3)\n",
    "F2=inrange(-5,0)\n",
    "F3=inrange(-1,8)\n",
    "\n",
    "print F1(0), F1(1), F1(10), F1(15), F1(20)\n",
    "print F2(0), F2(1), F2(10), F2(15), F2(20)\n",
    "\n",
    "print \"Number of Entries passing F1:\", len(where(Data,F1))\n",
    "print \"Number of Entries passing F2:\", len(where(Data,F2))\n",
    "print \"Number of Entries passing F3:\", len(where(Data,F3))\n",
    "\n",
    "\n",
    "plt.hist(Data, bins=10)  \n",
    "plt.title(\"Histogram over Data range\")\n",
    "plt.show()\n"
   ]
  },
  {
   "cell_type": "markdown",
   "metadata": {},
   "source": [
    "### Exercise 1.5\n",
    "\n",
    "Repeat Exercise 1.5 using the built in python functions sum and map instead of your solution to 1.3. "
   ]
  },
  {
   "cell_type": "code",
   "execution_count": 40,
   "metadata": {},
   "outputs": [
    {
     "name": "stdout",
     "output_type": "stream",
     "text": [
      "[483, 476, 479, 446, 472, 480, 482, 473, 478, 468, 465, 481, 477, 461, 475, 474, 470, 466, 464, 471, 455, 469, 445, 463, 467, 458, 454, 457, 459, 462, 456, 453, 460, 433, 449, 434, 452, 451, 443, 448, 429, 447, 450, 424, 441, 444, 442, 438, 420, 416, 421, 439, 440, 403, 436, 437, 435, 427, 432, 423, 431, 422, 430, 417, 428, 426, 419, 425, 414, 400, 408, 418, 411, 405, 413, 404, 412, 415, 410, 387, 397, 407, 409, 402, 401, 406, 398, 396, 370, 392, 391, 399, 379, 385, 395, 394, 393, 390, 388, 382, 386, 371, 389, 378, 366, 384, 367, 376, 383, 380, 357, 381, 377, 374, 344, 368, 361, 375, 373, 369, 372, 364, 362, 359, 355, 360, 365, 354, 352, 363, 347, 342, 339, 353, 358, 350, 356, 343, 348, 349, 351, 346, 337, 345, 328, 335, 315, 338, 341, 334, 326, 340, 317, 332, 320, 325, 336, 323, 333, 313, 330, 331, 327, 329, 303, 321, 324, 318, 314, 319, 322, 312, 309, 310, 308, 316, 307, 305, 297, 292, 304, 311, 294, 306, 291, 296, 301, 299, 302, 298, 300, 295, 288, 293, 287, 281, 286, 260, 290, 283, 284, 289, 271, 272, 280, 266, 285, 276, 269, 282, 279, 259, 277, 278, 275, 273, 274, 264, 268, 262, 265, 267, 270, 253, 261, 249, 250, 263, 240, 257, 245, 258, 254, 256, 239, 232, 255, 248, 252, 251, 243, 205, 244, 247, 238, 236, 246, 242, 241, 237, 228, 230, 206, 234, 231, 235, 198, 226, 223, 233, 229, 227, 220, 219, 225, 222, 224, 204, 221, 214, 213, 212, 218, 216, 208, 217, 215, 183, 211, 199, 195, 210, 209, 201, 202, 207, 179, 200, 203, 189, 187, 194, 196, 197, 191, 190, 185, 178, 180, 193, 192, 182, 168, 186, 188, 170, 177, 184, 165, 175, 155, 181, 171, 174, 176, 172, 161, 173, 166, 142, 157, 111, 169, 163, 156, 167, 162, 152, 164, 160, 147, 154, 159, 158, 153, 143, 151, 137, 149, 129, 150, 148, 146, 141, 144, 145, 134, 139, 121, 130, 110, 140, 118, 138, 135, 136, 133, 131, 132, 127, 125, 126, 128, 112, 117, 124, 122, 120, 123, 119, 114, 109, 97, 115, 104, 116, 113, 92, 105, 103, 81, 107, 108, 95, 106, 100, 76, 102, 88, 101, 90, 86, 99, 98, 96, 91, 68, 93, 94, 82, 66, 84, 89, 80, 75, 87, 85, 77, 73, 83, 74, 79, 69, 71, 78, 62, 67, 72, 65, 70, 53, 61, 64, 48, 63, 60, 51, 47, 44, 59, 52, 56, 58, 57, 34, 55, 29, 50, 54, 41, 39, 49, 46, 45, 43, 42, 40, 37, 28, 38, 36, 14, 0, 35, 22, 30, 27, 24, 33, 31, 32, 7, 16, 26, 23, 20, 1, 25, 21, 15, 17, 18, 19, 2, 3, 12, 9, 13, 11, 4, 5, 10, 8, 6]\n"
     ]
    }
   ],
   "source": [
    "maplist = list(filter(lambda i: i>=0 ,Data))\n",
    "        \n",
    "newOut = []\n",
    "for i in maplist:\n",
    "    if i:\n",
    "        newOut.insert(int(i), maplist.index(i))\n",
    "print newOut\n"
   ]
  },
  {
   "cell_type": "markdown",
   "metadata": {},
   "source": [
    "### Exercise 1.6\n",
    "\n",
    "Write a new function called GenerateDataFromFunction(N,mymin,mymax,myfunc), that instead of generating a flat distribution, generates a distribution with functional form coded in myfunc. Note that myfunc will always be > 0.  \n",
    "\n",
    "Use your function to generate 1000 numbers that are Gaussian distributed, using the Gaussian function below. Confirm the mean of the data is close to mean you specify when building the Gaussian. \n",
    "\n",
    "Hint: A simple, but slow, solution is to a draw random number test_x within the specified range and another number p between the min and max of the function (which you will have to determine). If p<=function(test_x), then place test_x on the output. If not, repeat the process, drawing two new numbers. Repeat until you have the specified number of generated numbers, N. For this problem, it's OK to determine the min and max by numerically sampling the function.  \n",
    "\n"
   ]
  },
  {
   "cell_type": "code",
   "execution_count": null,
   "metadata": {
    "collapsed": true
   },
   "outputs": [],
   "source": [
    "def GenerateDataFromFunction(N,mymin,mymax,myfunc):\n",
    "    out = []\n",
    "    ### BEGIN SOLUTION\n",
    "\n",
    "    # Fill in your solution here        \n",
    "    \n",
    "    ### END SOLUTION\n",
    "    \n",
    "    return out"
   ]
  },
  {
   "cell_type": "code",
   "execution_count": null,
   "metadata": {
    "collapsed": true
   },
   "outputs": [],
   "source": [
    "import math\n",
    "\n",
    "def gaussian(mean, sigma):\n",
    "    def f(x):\n",
    "        return math.exp(((x-mean)**2)/(2*sigma**2))/math.sqrt(math.pi*sigma)\n",
    "    return f\n",
    "\n",
    "# Example Instantiation\n",
    "g1=gaussian(0,1)\n",
    "g2=gaussian(10,3)\n",
    "\n",
    "### BEGIN SOLUTION\n",
    "\n",
    "# Fill in your solution here        \n",
    "    \n",
    "### END SOLUTION\n"
   ]
  }
 ],
 "metadata": {
  "kernelspec": {
   "display_name": "Python 2",
   "language": "python",
   "name": "python2"
  },
  "language_info": {
   "codemirror_mode": {
    "name": "ipython",
    "version": 2
   },
   "file_extension": ".py",
   "mimetype": "text/x-python",
   "name": "python",
   "nbconvert_exporter": "python",
   "pygments_lexer": "ipython2",
   "version": "2.7.12"
  }
 },
 "nbformat": 4,
 "nbformat_minor": 2
}
