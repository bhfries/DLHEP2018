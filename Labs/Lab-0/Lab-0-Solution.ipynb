{
 "cells": [
  {
   "cell_type": "markdown",
   "metadata": {},
   "source": [
    "# Applications of Deep Learning to High Energy Physics\n",
    "## Lab 0- Getting Started\n",
    "\n",
    "\n",
    "### Introduction- Jupyter Basics\n",
    "\n",
    "If you are seeing this page, you have successfully connected to our python server via ssh tunnel, logged in, and navigated to this notebook. Jupyter notebooks consist of cells that can hold text or code (usually python). This text that you are reading, was written into a text cell as simple text \"coding\" language known as mark-down. When a cell is run (either automatically at start of the notebook or manually by pressing shift-enter), the mark-down text is interpreted into nice looking text. Running a code cell will execute the code in that cell and give you the results. If you make a mistake, you can usually simply change the cell and re-run. But be aware that since you ran the mistaken cell already, whatever code that was properly executed before your mistake/error, was already executed and has therefore changed your current python environment accordingly. In some cases this situation will be problematic, and you will need to rerun the notebook from the start by pressing the \"reload\" botton (next to the \"stop\" button) above.\n",
    "\n",
    "### Python Overview\n",
    "\n",
    "Our first few labs are intended to try to force everyone to learn sufficient python, numpy, and HDF5 to perform some basic tasks. In this very first lab, we will introduce the fundamentals of python language. The following notebooks were copied from [github pages of Rajath Kumar](https://github.com/rajathkmp/Python-Lectures) from Indian Institute of Science, [License](https://creativecommons.org/licenses/by/3.0/). They provide a quick overview of basic python syntax. \n",
    "\n",
    "Carefully read through the following notebooks and familiarize yourself with python. Run the code cells (by pressing shift-enter when in the cell) in the notebooks and make sure you understand the output. \n",
    "\n",
    "   * [Variables, Operators, ...](Python-Lectures/01.ipynb)\n",
    "   * [Print Statements](Python-Lectures/02.ipynb)\n",
    "   * [Data Structures](Python-Lectures/03.ipynb)\n",
    "   * [Strings](Python-Lectures/04.ipynb)\n",
    "   * [Control Flow](Python-Lectures/05.ipynb)\n",
    "   * [Functions](Python-Lectures/06.ipynb)\n",
    "   * [Classes](Python-Lectures/07.ipynb)\n"
   ]
  },
  {
   "cell_type": "markdown",
   "metadata": {
    "collapsed": true
   },
   "source": [
    "### Reading Code\n",
    "\n",
    "Reading and understanding code written by others is an important part of learning to code yourself. Carefully read through these [python exercises](http://www.practicepython.org) and their solutions. Then as practice, pick 3 exercises and solve them in this notebook below. You will be asked next week to solve an exercise in class. \n",
    "\n"
   ]
  },
  {
   "cell_type": "markdown",
   "metadata": {},
   "source": [
    "### 1. Exercise (3) "
   ]
  },
  {
   "cell_type": "code",
   "execution_count": 32,
   "metadata": {},
   "outputs": [
    {
     "name": "stdout",
     "output_type": "stream",
     "text": [
      "Choose a number from 1-100: 65\n",
      "[1, 29, 5, 64, 9, 45, 32, 15, 23, 27, 36, 43, 49, 57]\n"
     ]
    }
   ],
   "source": [
    "a = [1,29,5,64,9,45,32,78,15,23,27,36,43,49,57,72,78,86,91,97]\n",
    "num = int(input('Choose a number from 1-100: '))\n",
    "less_list = []\n",
    "for i in a:\n",
    "    if i < num:\n",
    "        less_list.append(i)\n",
    "        \n",
    "print(less_list) \n",
    "\n"
   ]
  },
  {
   "cell_type": "markdown",
   "metadata": {},
   "source": [
    "### 2. Exercise (13) "
   ]
  },
  {
   "cell_type": "code",
   "execution_count": 44,
   "metadata": {},
   "outputs": [
    {
     "name": "stdout",
     "output_type": "stream",
     "text": [
      "How many fibonacci numbers would you like to generate?8\n",
      "[1, 1, 2, 3, 5, 8, 13, 21]\n"
     ]
    }
   ],
   "source": [
    "nums = int(input(\"How many fibonacci numbers would you like to generate? \"))\n",
    "nacci = [1, 1]\n",
    "while len(nacci) < nums:\n",
    "   nacci += [nacci[-1] + nacci[-2]]\n",
    "print (nacci[0:nums])"
   ]
  },
  {
   "cell_type": "markdown",
   "metadata": {},
   "source": [
    "# 3. Exercise (16) "
   ]
  },
  {
   "cell_type": "code",
   "execution_count": 1,
   "metadata": {},
   "outputs": [
    {
     "name": "stdout",
     "output_type": "stream",
     "text": [
      "Desired password length:9\n",
      "1t$xWtaMi\n"
     ]
    }
   ],
   "source": [
    "import random\n",
    "char = 'abcdefghijklmnopqrstuvwxyzABCDEFGHIJKLMNOPQRSTUVWXYZ0123456789!@#$%?.,'\n",
    "\n",
    "length = int(input(\"Desired password length:\"))\n",
    "password = ''\n",
    "for i in range(length):\n",
    "    password += random.choice(char)\n",
    "print(password)\n"
   ]
  },
  {
   "cell_type": "markdown",
   "metadata": {},
   "source": [
    "### Test Yourself\n",
    "\n",
    "Write a function that takes in a string and determines the number of unique words (ignoring capitalization and punctuation) and returns an dictionary where the key of each entry is the word and the value is the number of times the word appears in the string. Demonstrate that your function works by applying it to the introduction paragraph above."
   ]
  },
  {
   "cell_type": "code",
   "execution_count": 55,
   "metadata": {},
   "outputs": [
    {
     "name": "stdout",
     "output_type": "stream",
     "text": [
      "Enter the paragraph:\n",
      "If you are seeing this page, you have successfully connected to our python server via ssh tunnel, logged in, and navigated to this notebook. Jupyter notebooks consist of cells that can hold text or code (usually python). This text that you are reading, was written into a text cell as simple text \"coding\" language known as mark-down. When a cell is run (either automatically at start of the notebook or manually by pressing shift-enter), the mark-down text is interpreted into nice looking text. Running a code cell will execute the code in that cell and give you the results. If you make a mistake, you can usually simply change the cell and re-run. But be aware that since you ran the mistaken cell already, whatever code that was properly executed before your mistake/error, was already executed and has therefore changed your current python environment accordingly. In some cases this situation will be problematic, and you will need to rerun the notebook from the start by pressing the \"reload\" botton (next to the \"stop\" button) above.\n",
      "\n",
      "There are 37 unique words.\n",
      "\n",
      "{'will': 3, 'python': 2, 'be': 2, 'reading,': 1, 'mistake/error,': 1, 'mistaken': 1, 'you': 8, 'seeing': 1, 'hold': 1, 'situation': 1, 'was': 3, 'since': 1, 'consist': 1, 'as': 2, 'rerun': 1, 'give': 1, 'and': 5, '\"stop\"': 1, 'connected': 1, '\"reload\"': 1, 'written': 1, 'mark-down.': 1, 'via': 1, 'already': 1, 'have': 1, 'therefore': 1, 'manually': 1, 'navigated': 1, 'aware': 1, 'looking': 1, 'shift-enter),': 1, 'jupyter': 1, 'start': 2, 're-run.': 1, 'above.': 1, 'python).': 1, '\"coding\"': 1, 'already,': 1, 'cases': 1, 'to': 4, 'make': 1, 'if': 2, 'nice': 1, '(usually': 1, 'when': 1, 'execute': 1, 'accordingly.': 1, 'the': 10, 'pressing': 2, 'server': 1, 'of': 2, 'mark-down': 1, 'executed': 2, 'text': 5, 'button)': 1, '(either': 1, 'problematic,': 1, 'is': 2, 'your': 2, 'our': 1, 'but': 1, 'that': 5, '(next': 1, 'notebook.': 1, 'some': 1, 'notebooks': 1, 'usually': 1, 'code': 4, 'cells': 1, 'botton': 1, 'in,': 1, 'change': 1, 'cell': 6, 'properly': 1, 'whatever': 1, 'environment': 1, 'into': 2, 'before': 1, 'mistake,': 1, 'this': 4, 'page,': 1, 'has': 1, 'by': 2, 'results.': 1, 'current': 1, 'simple': 1, 'from': 1, 'in': 2, 'simply': 1, 'need': 1, 'ssh': 1, 'at': 1, 'interpreted': 1, 'a': 4, 'or': 2, 'ran': 1, 'are': 2, 'logged': 1, 'running': 1, 'language': 1, 'automatically': 1, 'changed': 1, 'notebook': 2, 'known': 1, 'run': 1, 'successfully': 1, 'can': 2, 'tunnel,': 1, 'text.': 1}\n"
     ]
    }
   ],
   "source": [
    "numCount = input(\"Enter the paragraph:\\n\")\n",
    "x = int(len(set(numCount)))\n",
    "\n",
    "def word_count(string):\n",
    "  my_string = string.lower().split()\n",
    "  my_dict = {}\n",
    "  for item in my_string:\n",
    "    my_dict[item] = my_string.count(item)\n",
    "  print(my_dict)\n",
    "\n",
    "print('\\nThere are', x, 'unique words.\\n')\n",
    "word_count(numCount)"
   ]
  },
  {
   "cell_type": "code",
   "execution_count": 15,
   "metadata": {},
   "outputs": [
    {
     "name": "stdout",
     "output_type": "stream",
     "text": [
      "please enter a number:89\n",
      "89 is a prime number\n"
     ]
    }
   ],
   "source": [
    "\n",
    "num = int(input('please enter a number:'))\n",
    "\n",
    "if num > 1:\n",
    "   for i in range(2,num):\n",
    "       if (num % i) == 0:\n",
    "           print(num,\"is not a prime number\")\n",
    "           break\n",
    "   else:\n",
    "       print(num,\"is a prime number\")\n",
    "\n",
    "if num == 0:\n",
    "    print('0 is not a prime number')"
   ]
  },
  {
   "cell_type": "code",
   "execution_count": 5,
   "metadata": {},
   "outputs": [
    {
     "name": "stdout",
     "output_type": "stream",
     "text": [
      "enter a number56\n",
      "[0, 1, 1, 2, 3, 5, 8, 13, 21, 34, 55, 89, 144, 233, 377, 610, 987, 1597, 2584, 4181, 6765, 10946, 17711, 28657, 46368, 75025, 121393, 196418, 317811, 514229, 832040, 1346269, 2178309, 3524578, 5702887, 9227465, 14930352, 24157817, 39088169, 63245986, 102334155, 165580141, 267914296, 433494437, 701408733, 1134903170, 1836311903, 2971215073, 4807526976, 7778742049, 12586269025, 20365011074, 32951280099, 53316291173, 86267571272, 139583862445]\n"
     ]
    }
   ],
   "source": []
  },
  {
   "cell_type": "code",
   "execution_count": null,
   "metadata": {
    "collapsed": true
   },
   "outputs": [],
   "source": []
  },
  {
   "cell_type": "code",
   "execution_count": null,
   "metadata": {
    "collapsed": true
   },
   "outputs": [],
   "source": []
  }
 ],
 "metadata": {
  "kernelspec": {
   "display_name": "Python 3",
   "language": "python",
   "name": "python3"
  },
  "language_info": {
   "codemirror_mode": {
    "name": "ipython",
    "version": 3
   },
   "file_extension": ".py",
   "mimetype": "text/x-python",
   "name": "python",
   "nbconvert_exporter": "python",
   "pygments_lexer": "ipython3",
   "version": "3.5.2"
  }
 },
 "nbformat": 4,
 "nbformat_minor": 2
}
